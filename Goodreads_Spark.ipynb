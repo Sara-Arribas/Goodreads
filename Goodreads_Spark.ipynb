{
 "cells": [
  {
   "cell_type": "markdown",
   "id": "8422e786",
   "metadata": {},
   "source": [
    "# Goodreads"
   ]
  },
  {
   "cell_type": "markdown",
   "id": "4a5155ba",
   "metadata": {},
   "source": [
    "### Iniciar la SparkSession"
   ]
  },
  {
   "cell_type": "code",
   "execution_count": 1,
   "id": "39cc70bd",
   "metadata": {},
   "outputs": [
    {
     "data": {
      "text/plain": [
       "Intitializing Scala interpreter ..."
      ]
     },
     "metadata": {},
     "output_type": "display_data"
    },
    {
     "data": {
      "text/plain": [
       "Spark Web UI available at http://L2111011.bosonit.local:4040\n",
       "SparkContext available as 'sc' (version = 3.1.2, master = local[*], app id = local-1643702865993)\n",
       "SparkSession available as 'spark'\n"
      ]
     },
     "metadata": {},
     "output_type": "display_data"
    },
    {
     "data": {
      "text/plain": [
       "import org.apache.spark.sql.SparkSession\r\n",
       "spark: org.apache.spark.sql.SparkSession = org.apache.spark.sql.SparkSession@6e34b4d\r\n"
      ]
     },
     "execution_count": 1,
     "metadata": {},
     "output_type": "execute_result"
    }
   ],
   "source": [
    "import org.apache.spark.sql.SparkSession\n",
    "\n",
    "val spark = SparkSession.builder()\n",
    "                        .appName(\"Goodreads\")\n",
    "                        .master(\"local\")\n",
    "                        .getOrCreate()"
   ]
  },
  {
   "cell_type": "markdown",
   "id": "e16b0207",
   "metadata": {},
   "source": [
    "### Carga de los CSV"
   ]
  },
  {
   "cell_type": "code",
   "execution_count": null,
   "id": "b22b545a",
   "metadata": {},
   "outputs": [],
   "source": [
    "val colName = [\"Id\",\"Name\",\"RatingDist1\",\"pagesNumber\",\"RatingDist4\",\"RatingDistTotal\",\"PublishMonth\",\"PublishDay\",\n",
    "               \"Publisher\",\"CountsOfReview\",\"PublishYear\",\"Language\",\"Authors\",\"Rating\",\"RatingDist2\",\"RatingDist5\",\n",
    "               \"ISBN\",\"RatingDist3\"]"
   ]
  },
  {
   "cell_type": "code",
   "execution_count": null,
   "id": "affc8a37",
   "metadata": {},
   "outputs": [],
   "source": [
    "// Cuando ponemos el asterisco al final de access_log conseguimos cargar los dos documentos (Jul y Aug) sin hacer un union\n",
    "\n",
    "val directorio_books = \"C:/Users/sara.arribas/Documents/Big Data/Goodreads Dataset Project/book*\"\n",
    "val directorio_user = \"C:/Users/sara.arribas/Documents/Big Data/Goodreads Dataset Project/user_rating_*\"\n",
    "\n",
    "val booksDF = spark.read.format(\"csv\")\n",
    "                        .option(\"header\", \"true\")\n",
    "                        .option(\"delimiter\", \",\")\n",
    "                        .load(directorio_books)\n",
    "\n",
    "val usersDF = spark.read.format(\"csv\")\n",
    "                        .option(\"header\", \"true\")\n",
    "                        .option(\"delimiter\", \",\")\n",
    "                        .load(directorio_user)\n",
    "\n",
    "booksDF.printSchema()\n",
    "usersDF.printSchema()"
   ]
  },
  {
   "cell_type": "markdown",
   "id": "67473b6a",
   "metadata": {},
   "source": [
    "### 1.- Rating promedio de todos los libros"
   ]
  },
  {
   "cell_type": "code",
   "execution_count": null,
   "id": "08e7c6e8",
   "metadata": {},
   "outputs": [],
   "source": [
    "import org.apache.spark.sql.functions._\n",
    "\n",
    "mean"
   ]
  },
  {
   "cell_type": "markdown",
   "id": "1f0e102b",
   "metadata": {},
   "source": [
    "### 2.- Rating promedio de los libros por autor"
   ]
  },
  {
   "cell_type": "code",
   "execution_count": null,
   "id": "ccaa355f",
   "metadata": {},
   "outputs": [],
   "source": []
  },
  {
   "cell_type": "markdown",
   "id": "d3f19686",
   "metadata": {},
   "source": [
    "### 3.- Rating promedio de los libros por Publisher"
   ]
  },
  {
   "cell_type": "code",
   "execution_count": null,
   "id": "30269bde",
   "metadata": {},
   "outputs": [],
   "source": []
  },
  {
   "cell_type": "markdown",
   "id": "fbf73198",
   "metadata": {},
   "source": [
    "### 4.- Número promedio de páginas de todos los libros"
   ]
  },
  {
   "cell_type": "code",
   "execution_count": null,
   "id": "5c2787be",
   "metadata": {},
   "outputs": [],
   "source": []
  },
  {
   "cell_type": "markdown",
   "id": "d8405f8e",
   "metadata": {},
   "source": [
    "### 5.- Número promedio de páginas de todos los libros por autor"
   ]
  },
  {
   "cell_type": "code",
   "execution_count": null,
   "id": "35992bd9",
   "metadata": {},
   "outputs": [],
   "source": []
  },
  {
   "cell_type": "markdown",
   "id": "a8dd9ac7",
   "metadata": {},
   "source": [
    "### 6.- Número promedio de páginas de todos los libros por Publisher"
   ]
  },
  {
   "cell_type": "code",
   "execution_count": null,
   "id": "ca07dfd6",
   "metadata": {},
   "outputs": [],
   "source": []
  },
  {
   "cell_type": "markdown",
   "id": "50e529cf",
   "metadata": {},
   "source": [
    "### 7.- Número promedio de libros publicados por autor"
   ]
  },
  {
   "cell_type": "code",
   "execution_count": null,
   "id": "107a4875",
   "metadata": {},
   "outputs": [],
   "source": []
  },
  {
   "cell_type": "markdown",
   "id": "36f0e42c",
   "metadata": {},
   "source": [
    "### 8.- Ordenar los libros de mayor a menor (Top 15) por número de ratings dados por usuarios (excluir aquellos valores sin rating)"
   ]
  },
  {
   "cell_type": "code",
   "execution_count": null,
   "id": "7778ecfb",
   "metadata": {},
   "outputs": [],
   "source": []
  },
  {
   "cell_type": "markdown",
   "id": "2ec8dd10",
   "metadata": {},
   "source": [
    "### 9.- Obtener Top 5 de ratings más frecuentes otorgados por usuarios"
   ]
  },
  {
   "cell_type": "code",
   "execution_count": null,
   "id": "efc45948",
   "metadata": {},
   "outputs": [],
   "source": []
  }
 ],
 "metadata": {
  "kernelspec": {
   "display_name": "spylon-kernel",
   "language": "scala",
   "name": "spylon-kernel"
  },
  "language_info": {
   "codemirror_mode": "text/x-scala",
   "file_extension": ".scala",
   "help_links": [
    {
     "text": "MetaKernel Magics",
     "url": "https://metakernel.readthedocs.io/en/latest/source/README.html"
    }
   ],
   "mimetype": "text/x-scala",
   "name": "scala",
   "pygments_lexer": "scala",
   "version": "0.4.1"
  }
 },
 "nbformat": 4,
 "nbformat_minor": 5
}
