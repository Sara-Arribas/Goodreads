{
 "cells": [
  {
   "cell_type": "markdown",
   "id": "9982225f",
   "metadata": {},
   "source": [
    "# Goodreads"
   ]
  },
  {
   "cell_type": "markdown",
   "id": "ce8db792",
   "metadata": {},
   "source": [
    "### Iniciar la SparkSession"
   ]
  },
  {
   "cell_type": "code",
   "execution_count": 1,
   "id": "d2cd9f66",
   "metadata": {},
   "outputs": [],
   "source": [
    "\n",
    "from pyspark.sql import SparkSession\n",
    "from pyspark.sql.functions import avg\n",
    "\n",
    "# Create a DataFrame using SparkSession\n",
    "spark = (SparkSession.builder.appName(\"Goodreads\").getOrCreate())\n",
    "\n"
   ]
  },
  {
   "cell_type": "markdown",
   "id": "596445dd",
   "metadata": {},
   "source": [
    "### Carga de los CSV"
   ]
  },
  {
   "cell_type": "code",
   "execution_count": 2,
   "id": "6f7b7070",
   "metadata": {},
   "outputs": [],
   "source": [
    "from pyspark.sql import functions as F\n",
    "directorio_books_1_100 = \"C:/Users/sara.arribas/Documents/Big Data/Goodreads Dataset Project/book\"+str(1)+\"-\"+str(100)+\"k.csv\"\n",
    "booksDF  = spark.read.format(\"csv\")\\\n",
    "                    .option(\"header\", \"true\")\\\n",
    "                    .option(\"delimiter\", \",\")\\\n",
    "                    .option(\"inferSchema\", \"true\")\\\n",
    "                    .option(\"quote\", \"\\\"\")\\\n",
    "                    .option(\"escape\",\"\\\"\")\\\n",
    "                    .option(\"multiLine\",\"true\")\\\n",
    "                    .load(directorio_books_1_100)\n"
   ]
  },
  {
   "cell_type": "code",
   "execution_count": null,
   "id": "7d61807a",
   "metadata": {},
   "outputs": [],
   "source": [
    "from pyspark.sql import functions as F\n",
    "booksDF.select(\"*\").where(F.col(\"Id\")==2995).toPandas()"
   ]
  },
  {
   "cell_type": "code",
   "execution_count": 3,
   "id": "cca561e6",
   "metadata": {},
   "outputs": [],
   "source": [
    "di = [100,200,300,400,500,600,700,800,900,1000,1100,1200,1300,1400,1500,1600,1700,1800,1900,2000,3000,4000,5000]\n",
    "\n",
    "for i in range(len(di)-1):\n",
    "    directorio_books = \"C:/Users/sara.arribas/Documents/Big Data/Goodreads Dataset Project/book\"+str(di[i])+\"k-\"+str(di[i+1])+\"k.csv\"\n",
    "    booksDF_bis  = spark.read.format(\"csv\")\\\n",
    "                              .option(\"header\", \"true\")\\\n",
    "                              .option(\"delimiter\", \",\")\\\n",
    "                              .option(\"inferSchema\", \"true\")\\\n",
    "                              .option(\"quote\", \"\\\"\")\\\n",
    "                              .option(\"escape\",\"\\\"\")\\\n",
    "                              .option(\"multiLine\",\"true\")\\\n",
    "                              .load(directorio_books)\n",
    "    \n",
    "        \n",
    "    booksDF1 = booksDF.unionByName(booksDF_bis, allowMissingColumns=True)\n",
    "    booksDF = booksDF1 \n"
   ]
  },
  {
   "cell_type": "code",
   "execution_count": 4,
   "id": "b6f76243",
   "metadata": {},
   "outputs": [
    {
     "data": {
      "text/plain": [
       "1850310"
      ]
     },
     "execution_count": 4,
     "metadata": {},
     "output_type": "execute_result"
    }
   ],
   "source": [
    "booksDF.count()"
   ]
  },
  {
   "cell_type": "code",
   "execution_count": 5,
   "id": "9544cb03",
   "metadata": {},
   "outputs": [
    {
     "name": "stdout",
     "output_type": "stream",
     "text": [
      "+----------+\n",
      "|Publishday|\n",
      "+----------+\n",
      "|31        |\n",
      "|28        |\n",
      "|26        |\n",
      "|27        |\n",
      "|12        |\n",
      "|22        |\n",
      "|1         |\n",
      "|13        |\n",
      "|6         |\n",
      "|16        |\n",
      "+----------+\n",
      "only showing top 10 rows\n",
      "\n"
     ]
    }
   ],
   "source": [
    "booksDF.select(\"Publishday\").distinct().show(10, False)\n"
   ]
  },
  {
   "cell_type": "code",
   "execution_count": 6,
   "id": "d4498de8",
   "metadata": {
    "scrolled": true
   },
   "outputs": [
    {
     "name": "stdout",
     "output_type": "stream",
     "text": [
      "+-----+-----+\n",
      "|Id   |count|\n",
      "+-----+-----+\n",
      "|85986|2    |\n",
      "|76885|2    |\n",
      "|85955|2    |\n",
      "|86023|2    |\n",
      "|85918|2    |\n",
      "|85962|2    |\n",
      "|76855|2    |\n",
      "|85946|2    |\n",
      "|76897|2    |\n",
      "|76825|2    |\n",
      "+-----+-----+\n",
      "only showing top 10 rows\n",
      "\n"
     ]
    }
   ],
   "source": [
    "booksDF.groupBy(\"Id\").count().orderBy(F.desc(\"count\")).show(10, False)"
   ]
  },
  {
   "cell_type": "code",
   "execution_count": 7,
   "id": "ef736ee5",
   "metadata": {},
   "outputs": [
    {
     "data": {
      "text/html": [
       "<div>\n",
       "<style scoped>\n",
       "    .dataframe tbody tr th:only-of-type {\n",
       "        vertical-align: middle;\n",
       "    }\n",
       "\n",
       "    .dataframe tbody tr th {\n",
       "        vertical-align: top;\n",
       "    }\n",
       "\n",
       "    .dataframe thead th {\n",
       "        text-align: right;\n",
       "    }\n",
       "</style>\n",
       "<table border=\"1\" class=\"dataframe\">\n",
       "  <thead>\n",
       "    <tr style=\"text-align: right;\">\n",
       "      <th></th>\n",
       "      <th>Id</th>\n",
       "      <th>Name</th>\n",
       "      <th>RatingDist1</th>\n",
       "      <th>pagesNumber</th>\n",
       "      <th>RatingDist4</th>\n",
       "      <th>RatingDistTotal</th>\n",
       "      <th>PublishMonth</th>\n",
       "      <th>PublishDay</th>\n",
       "      <th>Publisher</th>\n",
       "      <th>CountsOfReview</th>\n",
       "      <th>PublishYear</th>\n",
       "      <th>Language</th>\n",
       "      <th>Authors</th>\n",
       "      <th>Rating</th>\n",
       "      <th>RatingDist2</th>\n",
       "      <th>RatingDist5</th>\n",
       "      <th>ISBN</th>\n",
       "      <th>RatingDist3</th>\n",
       "      <th>Description</th>\n",
       "      <th>Count of text reviews</th>\n",
       "    </tr>\n",
       "  </thead>\n",
       "  <tbody>\n",
       "    <tr>\n",
       "      <th>0</th>\n",
       "      <td>85955</td>\n",
       "      <td>Karl Marx and the Future of the Human</td>\n",
       "      <td>1:0</td>\n",
       "      <td>244</td>\n",
       "      <td>4:2</td>\n",
       "      <td>total:4</td>\n",
       "      <td>28</td>\n",
       "      <td>2</td>\n",
       "      <td>Lexington Books</td>\n",
       "      <td>1</td>\n",
       "      <td>2005</td>\n",
       "      <td>None</td>\n",
       "      <td>Cyril  Smith</td>\n",
       "      <td>4.0</td>\n",
       "      <td>2:0</td>\n",
       "      <td>5:1</td>\n",
       "      <td>0739110276</td>\n",
       "      <td>3:1</td>\n",
       "      <td>None</td>\n",
       "      <td>NaN</td>\n",
       "    </tr>\n",
       "    <tr>\n",
       "      <th>1</th>\n",
       "      <td>85955</td>\n",
       "      <td>Karl Marx and the Future of the Human</td>\n",
       "      <td>1:0</td>\n",
       "      <td>244</td>\n",
       "      <td>4:2</td>\n",
       "      <td>total:4</td>\n",
       "      <td>28</td>\n",
       "      <td>2</td>\n",
       "      <td>Lexington Books</td>\n",
       "      <td>1</td>\n",
       "      <td>2005</td>\n",
       "      <td>None</td>\n",
       "      <td>Cyril  Smith</td>\n",
       "      <td>4.0</td>\n",
       "      <td>2:0</td>\n",
       "      <td>5:1</td>\n",
       "      <td>0739110276</td>\n",
       "      <td>3:1</td>\n",
       "      <td>None</td>\n",
       "      <td>NaN</td>\n",
       "    </tr>\n",
       "  </tbody>\n",
       "</table>\n",
       "</div>"
      ],
      "text/plain": [
       "      Id                                   Name RatingDist1  pagesNumber  \\\n",
       "0  85955  Karl Marx and the Future of the Human         1:0          244   \n",
       "1  85955  Karl Marx and the Future of the Human         1:0          244   \n",
       "\n",
       "  RatingDist4 RatingDistTotal  PublishMonth  PublishDay        Publisher  \\\n",
       "0         4:2         total:4            28           2  Lexington Books   \n",
       "1         4:2         total:4            28           2  Lexington Books   \n",
       "\n",
       "   CountsOfReview  PublishYear Language       Authors  Rating RatingDist2  \\\n",
       "0               1         2005     None  Cyril  Smith     4.0         2:0   \n",
       "1               1         2005     None  Cyril  Smith     4.0         2:0   \n",
       "\n",
       "  RatingDist5        ISBN RatingDist3 Description  Count of text reviews  \n",
       "0         5:1  0739110276         3:1        None                    NaN  \n",
       "1         5:1  0739110276         3:1        None                    NaN  "
      ]
     },
     "execution_count": 7,
     "metadata": {},
     "output_type": "execute_result"
    }
   ],
   "source": [
    "booksDF.select(\"*\").where(F.col(\"Id\") == 85955).toPandas()"
   ]
  },
  {
   "cell_type": "markdown",
   "id": "4e571631",
   "metadata": {},
   "source": [
    "<div class=\"alert alert-block alert-success\">\n",
    "Como tenemos filas repetidas (las que tienen mismo Id) las podemos borrar\n",
    "</div>"
   ]
  },
  {
   "cell_type": "code",
   "execution_count": 12,
   "id": "914afe45",
   "metadata": {},
   "outputs": [
    {
     "data": {
      "text/plain": [
       "1850115"
      ]
     },
     "execution_count": 12,
     "metadata": {},
     "output_type": "execute_result"
    }
   ],
   "source": [
    "booksDF_limpio = booksDF.dropDuplicates([\"Id\"])\n",
    "booksDF_limpio.count()"
   ]
  },
  {
   "cell_type": "markdown",
   "id": "9311b509",
   "metadata": {},
   "source": [
    "### 1.- Rating promedio de todos los libros"
   ]
  },
  {
   "cell_type": "code",
   "execution_count": 17,
   "id": "724365eb",
   "metadata": {},
   "outputs": [
    {
     "name": "stdout",
     "output_type": "stream",
     "text": [
      "+------------------+\n",
      "|   Rating Promedio|\n",
      "+------------------+\n",
      "|2.8941456017598894|\n",
      "+------------------+\n",
      "\n"
     ]
    }
   ],
   "source": [
    "booksDF_limpio.select(F.mean(F.col(\"Rating\")).alias(\"Rating Promedio\")).show()"
   ]
  },
  {
   "cell_type": "markdown",
   "id": "eec6c6ec",
   "metadata": {},
   "source": [
    "### 2.- Rating promedio de los libros por autor"
   ]
  },
  {
   "cell_type": "code",
   "execution_count": 55,
   "id": "4eba66ba",
   "metadata": {},
   "outputs": [
    {
     "name": "stdout",
     "output_type": "stream",
     "text": [
      "+--------------------+----------------+\n",
      "|Authors             |Rating x Authors|\n",
      "+--------------------+----------------+\n",
      "|Marianne Hancock    |5.0             |\n",
      "|Keith F. David      |5.0             |\n",
      "|Jan Ahlund          |5.0             |\n",
      "|Zole Hammer         |5.0             |\n",
      "|Thomas Dunbar Ingram|5.0             |\n",
      "+--------------------+----------------+\n",
      "only showing top 5 rows\n",
      "\n"
     ]
    }
   ],
   "source": [
    "booksDF_limpio.groupBy(\"Authors\")\\\n",
    "              .agg(F.round(F.mean(F.col(\"Rating\")),2).alias(\"Rating x Authors\"))\\\n",
    "              .orderBy(F.desc(\"Rating x Authors\"))\\\n",
    "              .show(5,False)"
   ]
  },
  {
   "cell_type": "code",
   "execution_count": 64,
   "id": "e8f72621",
   "metadata": {},
   "outputs": [
    {
     "name": "stdout",
     "output_type": "stream",
     "text": [
      "+-------------------------------+\n",
      "|Rating Promedio Books x Authors|\n",
      "+-------------------------------+\n",
      "|                           2.36|\n",
      "+-------------------------------+\n",
      "\n"
     ]
    }
   ],
   "source": [
    "booksDF_limpio.groupBy(\"Authors\")\\\n",
    "              .agg(F.round(F.mean(F.col(\"Rating\")),2).alias(\"Rating x Authors\"))\\\n",
    "              .agg(F.round(F.mean(\"Rating x Authors\"),2).alias(\"Rating Promedio Books x Authors\"))\\\n",
    "              .show()"
   ]
  },
  {
   "cell_type": "markdown",
   "id": "9923bef9",
   "metadata": {},
   "source": [
    "### 3.- Rating promedio de los libros por Publisher"
   ]
  },
  {
   "cell_type": "code",
   "execution_count": 29,
   "id": "fa54e7b4",
   "metadata": {},
   "outputs": [
    {
     "name": "stdout",
     "output_type": "stream",
     "text": [
      "+-------------------------+------------------+\n",
      "|Publisher                |Rating x Publisher|\n",
      "+-------------------------+------------------+\n",
      "|Images en Manoeuvres     |5.0               |\n",
      "|Pentameter Press, Inc.   |5.0               |\n",
      "|Admiral Nimitz Foundation|5.0               |\n",
      "|Mystic Wolf Press, Inc   |5.0               |\n",
      "|Tehmenos Press           |5.0               |\n",
      "+-------------------------+------------------+\n",
      "only showing top 5 rows\n",
      "\n"
     ]
    }
   ],
   "source": [
    "booksDF_limpio.groupBy(\"Publisher\")\\\n",
    "              .agg(F.round(F.mean(F.col(\"Rating\")),2).alias(\"Rating x Publisher\"))\\\n",
    "              .orderBy(F.desc(\"Rating x Publisher\"))\\\n",
    "              .show(5, False)"
   ]
  },
  {
   "cell_type": "code",
   "execution_count": 63,
   "id": "431eb454",
   "metadata": {},
   "outputs": [
    {
     "name": "stdout",
     "output_type": "stream",
     "text": [
      "+---------------------------------+\n",
      "|Rating Promedio Books x Publisher|\n",
      "+---------------------------------+\n",
      "|                             2.59|\n",
      "+---------------------------------+\n",
      "\n"
     ]
    }
   ],
   "source": [
    "booksDF_limpio.groupBy(\"Publisher\")\\\n",
    "              .agg(F.round(F.mean(F.col(\"Rating\")),2).alias(\"Rating x Publisher\"))\\\n",
    "              .agg(F.round(F.mean(\"Rating x Publisher\"),2).alias(\"Rating Promedio Books x Publisher\"))\\\n",
    "              .show()"
   ]
  },
  {
   "cell_type": "markdown",
   "id": "34aa30d1",
   "metadata": {},
   "source": [
    "### 4.- Número promedio de páginas de todos los libros"
   ]
  },
  {
   "cell_type": "code",
   "execution_count": 24,
   "id": "d150847b",
   "metadata": {},
   "outputs": [
    {
     "name": "stdout",
     "output_type": "stream",
     "text": [
      "+-----------------+\n",
      "| Promedio de Pags|\n",
      "+-----------------+\n",
      "|276.5487577799218|\n",
      "+-----------------+\n",
      "\n"
     ]
    }
   ],
   "source": [
    "booksDF_limpio.select(F.mean(F.col(\"pagesNumber\")).alias(\"Promedio de Pags\")).show()"
   ]
  },
  {
   "cell_type": "markdown",
   "id": "47dfb1f7",
   "metadata": {},
   "source": [
    "### 5.- Número promedio de páginas de todos los libros por autor¶"
   ]
  },
  {
   "cell_type": "code",
   "execution_count": 49,
   "id": "2c8cc6c0",
   "metadata": {},
   "outputs": [
    {
     "name": "stdout",
     "output_type": "stream",
     "text": [
      "+----------------------+--------------+\n",
      "|Authors               |Pags x Authors|\n",
      "+----------------------+--------------+\n",
      "|Sandy Redburn         |1807321.6     |\n",
      "|A.B. Murphy           |751507.33     |\n",
      "|John B. Hare          |500000.0      |\n",
      "|Logos Research Systems|100000.0      |\n",
      "|Progressive Management|35428.44      |\n",
      "+----------------------+--------------+\n",
      "only showing top 5 rows\n",
      "\n"
     ]
    }
   ],
   "source": [
    "booksDF_limpio.groupBy(\"Authors\")\\\n",
    "              .agg(F.round(F.mean(F.col(\"pagesNumber\")),2).alias(\"Pags x Authors\"))\\\n",
    "              .orderBy(F.desc(\"Pags x Authors\"))\\\n",
    "              .show(5, False)"
   ]
  },
  {
   "cell_type": "code",
   "execution_count": 61,
   "id": "4b874683",
   "metadata": {},
   "outputs": [
    {
     "name": "stdout",
     "output_type": "stream",
     "text": [
      "+-----------------------+\n",
      "|Promedio Pags x Authors|\n",
      "+-----------------------+\n",
      "|                 276.74|\n",
      "+-----------------------+\n",
      "\n"
     ]
    }
   ],
   "source": [
    "booksDF_limpio.groupBy(\"Authors\")\\\n",
    "              .agg(F.round(F.mean(F.col(\"pagesNumber\")),2).alias(\"Pags x Authors\"))\\\n",
    "              .agg(F.round(F.mean(\"Pags x Authors\"),2).alias(\"Promedio Pags x Authors\"))\\\n",
    "              .show()"
   ]
  },
  {
   "cell_type": "markdown",
   "id": "52fcd5bf",
   "metadata": {},
   "source": [
    "### 6.- Número promedio de páginas de todos los libros por Publisher"
   ]
  },
  {
   "cell_type": "code",
   "execution_count": 41,
   "id": "34fbeb63",
   "metadata": {},
   "outputs": [
    {
     "name": "stdout",
     "output_type": "stream",
     "text": [
      "+----------------------------+----------------+\n",
      "|Publisher                   |Pags x Publisher|\n",
      "+----------------------------+----------------+\n",
      "|Routledge                   |37642           |\n",
      "|Springer                    |35809           |\n",
      "|Oxford University Press, USA|26986           |\n",
      "|Cambridge University Press  |25957           |\n",
      "|null                        |17819           |\n",
      "+----------------------------+----------------+\n",
      "only showing top 5 rows\n",
      "\n"
     ]
    }
   ],
   "source": [
    "booksDF_limpio.groupBy(\"Publisher\")\\\n",
    "              .agg(F.round(F.mean(F.col(\"pagesNumber\")),2).alias(\"Pags x Publisher\"))\\\n",
    "              .orderBy(F.desc(\"Pags x Publisher\"))\\\n",
    "              .show(5, False)"
   ]
  },
  {
   "cell_type": "code",
   "execution_count": 60,
   "id": "2c57deae",
   "metadata": {},
   "outputs": [
    {
     "name": "stdout",
     "output_type": "stream",
     "text": [
      "+-------------------------+\n",
      "|Promedio Pags x Publisher|\n",
      "+-------------------------+\n",
      "|                   268.55|\n",
      "+-------------------------+\n",
      "\n"
     ]
    }
   ],
   "source": [
    "booksDF_limpio.groupBy(\"Publisher\")\\\n",
    "              .agg(F.round(F.mean(F.col(\"pagesNumber\")),2).alias(\"Pags x Publisher\"))\\\n",
    "              .agg(F.round(F.mean(\"Pags x Publisher\"),2).alias(\"Promedio Pags x Publisher\"))\\\n",
    "              .show()"
   ]
  },
  {
   "cell_type": "markdown",
   "id": "c9a1fdd7",
   "metadata": {},
   "source": [
    "### 7.- Número promedio de libros publicados por autor"
   ]
  },
  {
   "cell_type": "code",
   "execution_count": 50,
   "id": "afdd7f33",
   "metadata": {},
   "outputs": [
    {
     "name": "stdout",
     "output_type": "stream",
     "text": [
      "+-------------------+---------------+\n",
      "|Authors            |Books x Authors|\n",
      "+-------------------+---------------+\n",
      "|Anonymous          |2893           |\n",
      "|Unknown            |2029           |\n",
      "|William Shakespeare|1373           |\n",
      "|Francine Pascal    |930            |\n",
      "|Agatha Christie    |885            |\n",
      "+-------------------+---------------+\n",
      "only showing top 5 rows\n",
      "\n"
     ]
    }
   ],
   "source": [
    "booksDF_limpio.groupBy(\"Authors\")\\\n",
    "              .agg(F.round(F.count(F.col(\"Authors\")),2).alias(\"Books x Authors\"))\\\n",
    "              .orderBy(F.desc(\"Books x Authors\"))\\\n",
    "              .show(5, False)"
   ]
  },
  {
   "cell_type": "code",
   "execution_count": 57,
   "id": "6bb22dab",
   "metadata": {},
   "outputs": [
    {
     "name": "stdout",
     "output_type": "stream",
     "text": [
      "+------------------------+\n",
      "|Promedio Books x Authors|\n",
      "+------------------------+\n",
      "|                    2.74|\n",
      "+------------------------+\n",
      "\n"
     ]
    }
   ],
   "source": [
    "booksDF_limpio.groupBy(\"Authors\")\\\n",
    "              .agg(F.round(F.count(F.col(\"Authors\")),2).alias(\"Books x Authors\"))\\\n",
    "              .agg(F.round(F.mean(\"Books x Authors\"),2).alias(\"Promedio Books x Authors\"))\\\n",
    "              .show()"
   ]
  },
  {
   "cell_type": "markdown",
   "id": "5755d4f6",
   "metadata": {},
   "source": [
    "### 8.- Ordenar los libros de mayor a menor (Top 15) por número de ratings dados por usuarios (excluir aquellos valores sin rating)"
   ]
  },
  {
   "cell_type": "code",
   "execution_count": 69,
   "id": "60785c36",
   "metadata": {},
   "outputs": [
    {
     "data": {
      "text/html": [
       "<div>\n",
       "<style scoped>\n",
       "    .dataframe tbody tr th:only-of-type {\n",
       "        vertical-align: middle;\n",
       "    }\n",
       "\n",
       "    .dataframe tbody tr th {\n",
       "        vertical-align: top;\n",
       "    }\n",
       "\n",
       "    .dataframe thead th {\n",
       "        text-align: right;\n",
       "    }\n",
       "</style>\n",
       "<table border=\"1\" class=\"dataframe\">\n",
       "  <thead>\n",
       "    <tr style=\"text-align: right;\">\n",
       "      <th></th>\n",
       "      <th>Name</th>\n",
       "      <th>Rating</th>\n",
       "    </tr>\n",
       "  </thead>\n",
       "  <tbody>\n",
       "    <tr>\n",
       "      <th>0</th>\n",
       "      <td>Divan-I Kebir Volume 17: Hezec Mahbun Matviyy ...</td>\n",
       "      <td>5.0</td>\n",
       "    </tr>\n",
       "    <tr>\n",
       "      <th>1</th>\n",
       "      <td>Costs of Conflict: Prevention and Cure in the ...</td>\n",
       "      <td>5.0</td>\n",
       "    </tr>\n",
       "    <tr>\n",
       "      <th>2</th>\n",
       "      <td>Doctors' Doctor: A Biography of Eugene A. Stea...</td>\n",
       "      <td>5.0</td>\n",
       "    </tr>\n",
       "    <tr>\n",
       "      <th>3</th>\n",
       "      <td>The Mennonite Encyclopedia;A Comprehensive Ref...</td>\n",
       "      <td>5.0</td>\n",
       "    </tr>\n",
       "    <tr>\n",
       "      <th>4</th>\n",
       "      <td>Naming Names: Who, What, Where in Irish Names</td>\n",
       "      <td>5.0</td>\n",
       "    </tr>\n",
       "    <tr>\n",
       "      <th>5</th>\n",
       "      <td>International Marketing in the Network Economy...</td>\n",
       "      <td>5.0</td>\n",
       "    </tr>\n",
       "    <tr>\n",
       "      <th>6</th>\n",
       "      <td>What Was Lost: The Chronicles of Japheth: Book I</td>\n",
       "      <td>5.0</td>\n",
       "    </tr>\n",
       "    <tr>\n",
       "      <th>7</th>\n",
       "      <td>Sun-men of the Americas</td>\n",
       "      <td>5.0</td>\n",
       "    </tr>\n",
       "    <tr>\n",
       "      <th>8</th>\n",
       "      <td>Negotiating World Order: The Artisanship and A...</td>\n",
       "      <td>5.0</td>\n",
       "    </tr>\n",
       "    <tr>\n",
       "      <th>9</th>\n",
       "      <td>Pepper Mountain</td>\n",
       "      <td>5.0</td>\n",
       "    </tr>\n",
       "    <tr>\n",
       "      <th>10</th>\n",
       "      <td>Black Beauty: A Guide for Teachers and Students</td>\n",
       "      <td>5.0</td>\n",
       "    </tr>\n",
       "    <tr>\n",
       "      <th>11</th>\n",
       "      <td>The First Passage: Blacks in the Americas 1502...</td>\n",
       "      <td>5.0</td>\n",
       "    </tr>\n",
       "    <tr>\n",
       "      <th>12</th>\n",
       "      <td>Bernini and the Idealization of Death: The Ble...</td>\n",
       "      <td>5.0</td>\n",
       "    </tr>\n",
       "    <tr>\n",
       "      <th>13</th>\n",
       "      <td>Social and Economic History of Early Deccan: S...</td>\n",
       "      <td>5.0</td>\n",
       "    </tr>\n",
       "    <tr>\n",
       "      <th>14</th>\n",
       "      <td>Goethes Werke: Band VIII. Wilhelm Meisters Wan...</td>\n",
       "      <td>5.0</td>\n",
       "    </tr>\n",
       "  </tbody>\n",
       "</table>\n",
       "</div>"
      ],
      "text/plain": [
       "                                                 Name  Rating\n",
       "0   Divan-I Kebir Volume 17: Hezec Mahbun Matviyy ...     5.0\n",
       "1   Costs of Conflict: Prevention and Cure in the ...     5.0\n",
       "2   Doctors' Doctor: A Biography of Eugene A. Stea...     5.0\n",
       "3   The Mennonite Encyclopedia;A Comprehensive Ref...     5.0\n",
       "4       Naming Names: Who, What, Where in Irish Names     5.0\n",
       "5   International Marketing in the Network Economy...     5.0\n",
       "6    What Was Lost: The Chronicles of Japheth: Book I     5.0\n",
       "7                             Sun-men of the Americas     5.0\n",
       "8   Negotiating World Order: The Artisanship and A...     5.0\n",
       "9                                     Pepper Mountain     5.0\n",
       "10    Black Beauty: A Guide for Teachers and Students     5.0\n",
       "11  The First Passage: Blacks in the Americas 1502...     5.0\n",
       "12  Bernini and the Idealization of Death: The Ble...     5.0\n",
       "13  Social and Economic History of Early Deccan: S...     5.0\n",
       "14  Goethes Werke: Band VIII. Wilhelm Meisters Wan...     5.0"
      ]
     },
     "execution_count": 69,
     "metadata": {},
     "output_type": "execute_result"
    }
   ],
   "source": [
    "booksDF_limpio.select(\"Name\", \"Rating\")\\\n",
    "              .orderBy(F.desc(\"Rating\"))\\\n",
    "              .limit(15)\\\n",
    "              .toPandas()"
   ]
  },
  {
   "cell_type": "markdown",
   "id": "09c77bfb",
   "metadata": {},
   "source": [
    "### 9.- Obtener Top 5 de ratings más frecuentes otorgados por usuarios"
   ]
  },
  {
   "cell_type": "code",
   "execution_count": 71,
   "id": "cf8e08f3",
   "metadata": {},
   "outputs": [
    {
     "data": {
      "text/html": [
       "<div>\n",
       "<style scoped>\n",
       "    .dataframe tbody tr th:only-of-type {\n",
       "        vertical-align: middle;\n",
       "    }\n",
       "\n",
       "    .dataframe tbody tr th {\n",
       "        vertical-align: top;\n",
       "    }\n",
       "\n",
       "    .dataframe thead th {\n",
       "        text-align: right;\n",
       "    }\n",
       "</style>\n",
       "<table border=\"1\" class=\"dataframe\">\n",
       "  <thead>\n",
       "    <tr style=\"text-align: right;\">\n",
       "      <th></th>\n",
       "      <th>Rating</th>\n",
       "      <th>count</th>\n",
       "    </tr>\n",
       "  </thead>\n",
       "  <tbody>\n",
       "    <tr>\n",
       "      <th>0</th>\n",
       "      <td>0.0</td>\n",
       "      <td>451777</td>\n",
       "    </tr>\n",
       "    <tr>\n",
       "      <th>1</th>\n",
       "      <td>4.0</td>\n",
       "      <td>151965</td>\n",
       "    </tr>\n",
       "    <tr>\n",
       "      <th>2</th>\n",
       "      <td>3.0</td>\n",
       "      <td>87286</td>\n",
       "    </tr>\n",
       "    <tr>\n",
       "      <th>3</th>\n",
       "      <td>5.0</td>\n",
       "      <td>79825</td>\n",
       "    </tr>\n",
       "    <tr>\n",
       "      <th>4</th>\n",
       "      <td>3.5</td>\n",
       "      <td>45217</td>\n",
       "    </tr>\n",
       "  </tbody>\n",
       "</table>\n",
       "</div>"
      ],
      "text/plain": [
       "   Rating   count\n",
       "0     0.0  451777\n",
       "1     4.0  151965\n",
       "2     3.0   87286\n",
       "3     5.0   79825\n",
       "4     3.5   45217"
      ]
     },
     "execution_count": 71,
     "metadata": {},
     "output_type": "execute_result"
    }
   ],
   "source": [
    "booksDF_limpio.groupBy(\"Rating\")\\\n",
    "              .count()\\\n",
    "              .orderBy(F.desc(\"count\"))\\\n",
    "              .limit(5)\\\n",
    "              .toPandas()"
   ]
  },
  {
   "cell_type": "code",
   "execution_count": null,
   "id": "89e62d0e",
   "metadata": {},
   "outputs": [],
   "source": []
  }
 ],
 "metadata": {
  "kernelspec": {
   "display_name": "Python 3 (ipykernel)",
   "language": "python",
   "name": "python3"
  },
  "language_info": {
   "codemirror_mode": {
    "name": "ipython",
    "version": 3
   },
   "file_extension": ".py",
   "mimetype": "text/x-python",
   "name": "python",
   "nbconvert_exporter": "python",
   "pygments_lexer": "ipython3",
   "version": "3.9.7"
  }
 },
 "nbformat": 4,
 "nbformat_minor": 5
}
